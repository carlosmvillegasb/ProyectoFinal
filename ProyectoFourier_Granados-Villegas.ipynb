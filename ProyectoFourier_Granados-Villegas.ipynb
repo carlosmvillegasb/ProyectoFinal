{
 "metadata": {
  "language": "Julia",
  "name": "",
  "signature": "sha256:8a6c0163f95d9834bf72c751549438fc31aaf959c4899aa3913258e91a9ea8e2"
 },
 "nbformat": 3,
 "nbformat_minor": 0,
 "worksheets": [
  {
   "cells": [
    {
     "cell_type": "markdown",
     "metadata": {},
     "source": [
      "FFT"
     ]
    },
    {
     "cell_type": "code",
     "collapsed": false,
     "input": [
      "using PyCall\n",
      "pygui(:gtk)\n",
      "using PyPlot"
     ],
     "language": "python",
     "metadata": {},
     "outputs": [
      {
       "output_type": "stream",
       "stream": "stderr",
       "text": [
        "INFO: Loading help data...\n"
       ]
      }
     ],
     "prompt_number": 1
    },
    {
     "cell_type": "code",
     "collapsed": false,
     "input": [
      "f=20"
     ],
     "language": "python",
     "metadata": {},
     "outputs": [
      {
       "metadata": {},
       "output_type": "pyout",
       "prompt_number": 2,
       "text": [
        "20"
       ]
      }
     ],
     "prompt_number": 2
    },
    {
     "cell_type": "code",
     "collapsed": false,
     "input": [
      "b,h=10,0.00005"
     ],
     "language": "python",
     "metadata": {},
     "outputs": [
      {
       "metadata": {},
       "output_type": "pyout",
       "prompt_number": 3,
       "text": [
        "(10,5.0e-5)"
       ]
      }
     ],
     "prompt_number": 3
    },
    {
     "cell_type": "code",
     "collapsed": false,
     "input": [
      "A=Complex{Float64}[exp(im*2*\u03c0*f*x)+0.2*exp(im*2*\u03c0*(f+400)*x)+3*exp(im*2*\u03c0*50*x) for x in 0:h:b];"
     ],
     "language": "python",
     "metadata": {},
     "outputs": [],
     "prompt_number": 4
    },
    {
     "cell_type": "code",
     "collapsed": false,
     "input": [
      "@time B=real((fft(A)))/length(A);"
     ],
     "language": "python",
     "metadata": {},
     "outputs": [
      {
       "output_type": "stream",
       "stream": "stdout",
       "text": [
        "elapsed time: 0."
       ]
      },
      {
       "output_type": "stream",
       "stream": "stdout",
       "text": [
        "236065579 seconds (12943352 bytes allocated, 12.77% gc time)\n"
       ]
      }
     ],
     "prompt_number": 5
    },
    {
     "cell_type": "markdown",
     "metadata": {},
     "source": [
      "Aprendimos a usar la FFT de Julia. Toma un arreglo `A` cuyos elementos con \u00edndice `n` representan a cierta funci\u00f3n evaluada en diferentes puntos igualmente espaciados en un cierto dominio de tiempo (o espacio). `fft(A)` es un arreglo del mismo tama\u00f1o que `A`, cuyos elementos con \u00edndice `k` son la transformada de la funci\u00f3n que representa A en puntos de un dominio de frecuencias. Los \u00edndices `n`representan al dominio de tiempo de la funci\u00f3n que se va a transformar, mientras que `k` representa al dominio de frecuencias. Hay que saber identificar ese dominio de frecuencias, para que a la hora de realizar la fft podamos identificar las componentes. "
     ]
    },
    {
     "cell_type": "code",
     "collapsed": false,
     "input": [
      "function Frecuencias(B)\n",
      "    Frec=zeros(length(B))\n",
      "    for k in 1:length(B)\n",
      "        if B[k]>1000\n",
      "            coeff=k\n",
      "            f=B[k]\n",
      "            Frec[k]=coeff\n",
      "        end\n",
      "    end\n",
      "    Frec=Frec[Frec.>0]\n",
      "end"
     ],
     "language": "python",
     "metadata": {},
     "outputs": [
      {
       "metadata": {},
       "output_type": "pyout",
       "prompt_number": 6,
       "text": [
        "Frecuencias (generic function with 1 method)"
       ]
      }
     ],
     "prompt_number": 6
    },
    {
     "cell_type": "code",
     "collapsed": false,
     "input": [
      "Frecuencias(B)"
     ],
     "language": "python",
     "metadata": {},
     "outputs": [
      {
       "metadata": {},
       "output_type": "pyout",
       "prompt_number": 7,
       "text": [
        "0-element Array{Float64,1}"
       ]
      }
     ],
     "prompt_number": 7
    },
    {
     "cell_type": "code",
     "collapsed": false,
     "input": [
      "DomFrecExp(B)=[(k-1)/10 for k in 1:length(B)]"
     ],
     "language": "python",
     "metadata": {},
     "outputs": [
      {
       "metadata": {},
       "output_type": "pyout",
       "prompt_number": 8,
       "text": [
        "DomFrecExp (generic function with 1 method)"
       ]
      }
     ],
     "prompt_number": 8
    },
    {
     "cell_type": "code",
     "collapsed": false,
     "input": [
      "plot(DomFrecExp(B),B)\n",
      "xlim(0,500)"
     ],
     "language": "python",
     "metadata": {},
     "outputs": [
      {
       "metadata": {},
       "output_type": "display_data",
       "png": "[encoded data removed]",
       "text": [
        "Figure(PyObject <matplotlib.figure.Figure object at 0x8e746d0>)"
       ]
      },
      {
       "metadata": {},
       "output_type": "pyout",
       "prompt_number": 9,
       "text": [
        "(0,500)"
       ]
      }
     ],
     "prompt_number": 9
    },
    {
     "cell_type": "markdown",
     "metadata": {},
     "source": [
      "Una cosa que debemos tomar en cuenta es saber en cu+antos puntos evaluar la funci\u00f3n que representa a `A`, o sea, el tama\u00f1o del paso $h$ (ya qye de \u00e9l depende el tama\u00f1o de A). Si `A` tiene demasiados pocos elementos, los picos de las deltas (que son las transformadas de las exponenciales complejas) ya no tienen el tama\u00f1o que deber\u00edan, debido al efecto de Aliasing. Hay que estudiar ese efecto para poder determinar de manera sistem\u00e1tica el valor del paso $h$ a partir del intervalo de tiempo y las frecuencias de inter\u00e9s."
     ]
    }
   ],
   "metadata": {}
  }
 ]
}