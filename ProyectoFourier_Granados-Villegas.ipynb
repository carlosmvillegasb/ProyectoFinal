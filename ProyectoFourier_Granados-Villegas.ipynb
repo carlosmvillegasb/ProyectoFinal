{
 "metadata": {
  "language": "Julia",
  "name": "",
  "signature": "sha256:e886cb03d4ebeb75deb8533456698cb83d0170f7fcf18068fcd0c7bf2d43e77b"
 },
 "nbformat": 3,
 "nbformat_minor": 0,
 "worksheets": [
  {
   "cells": [
    {
     "cell_type": "markdown",
     "metadata": {},
     "source": [
      "FFT"
     ]
    },
    {
     "cell_type": "code",
     "collapsed": false,
     "input": [
      "using PyCall\n",
      "pygui(:gtk)\n",
      "using PyPlot"
     ],
     "language": "python",
     "metadata": {},
     "outputs": [
      {
       "output_type": "stream",
       "stream": "stderr",
       "text": [
        "\n",
        "WARNING: deprecated syntax \"[a=>b, ...]\" at /home/marissa/.julia/v0.4/PyCall/src/exception.jl:124.\n",
        "Use \"Dict(a=>b, ...)\" instead.\n",
        "\n",
        "WARNING: deprecated syntax \"(Symbol=>Timer)[]\" at /home/marissa/.julia/v0.4/PyCall/src/gui.jl:127.\n",
        "Use \"Dict{Symbol,Timer}()\" instead.\n",
        "\n",
        "WARNING: deprecated syntax \"(String=>Type)[a=>b, ...]\" at /home/marissa/.julia/v0.4/PyCall/src/numpy.jl:176.\n",
        "Use \"Dict{String,Type}(a=>b, ...)\" instead.\n"
       ]
      },
      {
       "output_type": "stream",
       "stream": "stderr",
       "text": [
        "\n",
        "WARNING: deprecated syntax \"[a=>b, ...]\" at /home/marissa/.julia/v0.4/PyPlot/src/PyPlot.jl:10.\n",
        "Use \"Dict(a=>b, ...)\" instead.\n",
        "\n",
        "WARNING: deprecated syntax \"[a=>b, ...]\" at /home/marissa/.julia/v0.4/PyPlot/src/PyPlot.jl:47.\n",
        "Use \"Dict(a=>b, ...)\" instead.\n",
        "\n",
        "WARNING: deprecated syntax \"{}\" at /home/marissa/.julia/v0.4/PyPlot/src/PyPlot.jl:292.\n",
        "Use \"[]\" instead.\n",
        "Warning: New definition \n",
        "    convert(TypeConstructor"
       ]
      },
      {
       "output_type": "stream",
       "stream": "stderr",
       "text": [
        ",AbstractAlphaColorValue{D,T}) at /home/marissa/.julia/v0.4/Color/src/conversions.jl:692\n",
        "is ambiguous with: \n",
        "    convert(Type{T},T) at base.jl:36.\n",
        "To fix, define \n",
        "    convert(Type{_<:AbstractAlphaColorValue{D,T}},_<:AbstractAlphaColorValue{D,T})"
       ]
      },
      {
       "output_type": "stream",
       "stream": "stderr",
       "text": [
        "\n",
        "before the new definition.\n",
        "\n",
        "WARNING: deprecated syntax \"[a=>b, ...]\" at /home/marissa/.julia/v0.4/PyPlot/src/colormaps.jl:58.\n",
        "Use \"Dict(a=>b, ...)\" instead.\n"
       ]
      }
     ],
     "prompt_number": 2
    },
    {
     "cell_type": "code",
     "collapsed": false,
     "input": [
      "f=20"
     ],
     "language": "python",
     "metadata": {},
     "outputs": [
      {
       "metadata": {},
       "output_type": "pyout",
       "prompt_number": 3,
       "text": [
        "20"
       ]
      }
     ],
     "prompt_number": 3
    },
    {
     "cell_type": "code",
     "collapsed": false,
     "input": [
      "b,h=10,0.00005"
     ],
     "language": "python",
     "metadata": {},
     "outputs": [
      {
       "metadata": {},
       "output_type": "pyout",
       "prompt_number": 4,
       "text": [
        "(10,5.0e-5)"
       ]
      }
     ],
     "prompt_number": 4
    },
    {
     "cell_type": "code",
     "collapsed": false,
     "input": [
      "A=Complex{Float64}[exp(im*2*\u03c0*f*x)+0.2*exp(im*2*\u03c0*(f+400)*x)+3*exp(im*2*\u03c0*50*x) for x in 0:h:b];"
     ],
     "language": "python",
     "metadata": {},
     "outputs": [],
     "prompt_number": 5
    },
    {
     "cell_type": "code",
     "collapsed": false,
     "input": [
      "@time B=real((fft(A)))/length(A);"
     ],
     "language": "python",
     "metadata": {},
     "outputs": [
      {
       "output_type": "stream",
       "stream": "stdout",
       "text": [
        "elapsed time: 0."
       ]
      },
      {
       "output_type": "stream",
       "stream": "stdout",
       "text": [
        "802665887 seconds (12833060 bytes allocated)\n"
       ]
      }
     ],
     "prompt_number": 6
    },
    {
     "cell_type": "markdown",
     "metadata": {},
     "source": [
      "Aprendimos a usar la FFT de Julia. Toma un arreglo `A` cuyos elementos con \u00edndice `n` representan a cierta funci\u00f3n evaluada en diferentes puntos igualmente espaciados en un cierto dominio de tiempo (o espacio). `fft(A)` es un arreglo del mismo tama\u00f1o que `A`, cuyos elementos con \u00edndice `k` son la transformada de la funci\u00f3n que representa A en puntos de un dominio de frecuencias. Los \u00edndices `n`representan al dominio de tiempo de la funci\u00f3n que se va a transformar, mientras que `k` representa al dominio de frecuencias. Hay que saber identificar ese dominio de frecuencias, para que a la hora de realizar la fft podamos identificar las componentes. "
     ]
    },
    {
     "cell_type": "code",
     "collapsed": false,
     "input": [
      "function Frecuencias(B)\n",
      "    Frec=zeros(length(B))\n",
      "    for k in 1:length(B)\n",
      "        if B[k]>1000\n",
      "            coeff=k\n",
      "            f=B[k]\n",
      "            Frec[k]=coeff\n",
      "        end\n",
      "    end\n",
      "    Frec=Frec[Frec.>0]\n",
      "end"
     ],
     "language": "python",
     "metadata": {},
     "outputs": [
      {
       "metadata": {},
       "output_type": "pyout",
       "prompt_number": 6,
       "text": [
        "Frecuencias (generic function with 1 method)"
       ]
      }
     ],
     "prompt_number": 6
    },
    {
     "cell_type": "code",
     "collapsed": false,
     "input": [
      "Frecuencias(B)"
     ],
     "language": "python",
     "metadata": {},
     "outputs": [
      {
       "metadata": {},
       "output_type": "pyout",
       "prompt_number": 7,
       "text": [
        "0-element Array{Float64,1}"
       ]
      }
     ],
     "prompt_number": 7
    },
    {
     "cell_type": "code",
     "collapsed": false,
     "input": [
      "DomFrecExp(B)=[(k-1)/10 for k in 1:length(B)]"
     ],
     "language": "python",
     "metadata": {},
     "outputs": [
      {
       "metadata": {},
       "output_type": "pyout",
       "prompt_number": 8,
       "text": [
        "DomFrecExp (generic function with 1 method)"
       ]
      }
     ],
     "prompt_number": 8
    },
    {
     "cell_type": "code",
     "collapsed": false,
     "input": [
      "plot(DomFrecExp(B),B)\n",
      "xlim(0,500)"
     ],
     "language": "python",
     "metadata": {},
     "outputs": [
      {
       "metadata": {},
       "output_type": "display_data",
       "png": "[encoded data removed]",
       "text": [
        "Figure(PyObject <matplotlib.figure.Figure object at 0x7f02cc119dd0>)"
       ]
      },
      {
       "metadata": {},
       "output_type": "pyout",
       "prompt_number": 9,
       "text": [
        "(0,500)"
       ]
      }
     ],
     "prompt_number": 9
    },
    {
     "cell_type": "markdown",
     "metadata": {},
     "source": [
      "Una cosa que debemos tomar en cuenta es saber en cu+antos puntos evaluar la funci\u00f3n que representa a `A`, o sea, el tama\u00f1o del paso $h$ (ya qye de \u00e9l depende el tama\u00f1o de A). Si `A` tiene demasiados pocos elementos, los picos de las deltas (que son las transformadas de las exponenciales complejas) ya no tienen el tama\u00f1o que deber\u00edan, debido al efecto de Aliasing. Hay que estudiar ese efecto para poder determinar de manera sistem\u00e1tica el valor del paso $h$ a partir del intervalo de tiempo y las frecuencias de inter\u00e9s."
     ]
    },
    {
     "cell_type": "markdown",
     "metadata": {},
     "source": [
      "Aqu\u00ed intent\u00e9 hice una arreglo que representa un concici\u00f3n inicial como se ve en la gr\u00e1fica. Obtuve la FFT de ese arreglo y trat\u00e9 de ocupar la ecuaci\u00f3n $u(x,t)=F^{-1}(e^{-4 \\pi k^2 t} \\hat{f}(k))$ para encontrar la soluci\u00f3n. $F^{-1}$ es la transformada inversa."
     ]
    },
    {
     "cell_type": "code",
     "collapsed": false,
     "input": [
      "t_0 = 0; t_f = 1; M = 10; N = 64;\n",
      "h = 2*pi/N;\n",
      "x = 0:h:2*pi-h\n",
      "#u0 = 1./(1 + sin(x/2).^2)\n",
      "u0=1000*exp(-x)"
     ],
     "language": "python",
     "metadata": {},
     "outputs": [
      {
       "metadata": {},
       "output_type": "pyout",
       "prompt_number": 7,
       "text": [
        "64-element Array{Float64,1}:\n",
        " 1000.0    \n",
        "  906.49   \n",
        "  821.725  \n",
        "  744.886  \n",
        "  675.232  \n",
        "  612.091  \n",
        "  554.855  \n",
        "  502.971  \n",
        "  455.938  \n",
        "  413.304  \n",
        "  374.656  \n",
        "  339.622  \n",
        "  307.864  \n",
        "    \u22ee      \n",
        "    6.0658 \n",
        "    5.49859\n",
        "    4.98442\n",
        "    4.51833\n",
        "    4.09582\n",
        "    3.71283\n",
        "    3.36564\n",
        "    3.05092\n",
        "    2.76563\n",
        "    2.50702\n",
        "    2.27259\n",
        "    2.06008"
       ]
      }
     ],
     "prompt_number": 7
    },
    {
     "cell_type": "code",
     "collapsed": false,
     "input": [
      "plot(u0)"
     ],
     "language": "python",
     "metadata": {},
     "outputs": [
      {
       "metadata": {},
       "output_type": "display_data",
       "png": "[encoded data removed]",
       "text": [
        "Figure(PyObject <matplotlib.figure.Figure object at 0x7fd732949d50>)"
       ]
      },
      {
       "metadata": {},
       "output_type": "pyout",
       "prompt_number": 8,
       "text": [
        "1-element Array{Any,1}:\n",
        " PyObject <matplotlib.lines.Line2D object at 0x7fd72cf1e810>"
       ]
      }
     ],
     "prompt_number": 8
    },
    {
     "cell_type": "code",
     "collapsed": false,
     "input": [
      "fgorrito=fft(u0)"
     ],
     "language": "python",
     "metadata": {},
     "outputs": [
      {
       "metadata": {},
       "output_type": "pyout",
       "prompt_number": 9,
       "text": [
        "64-element Array{Complex{Float64},1}:\n",
        " 10674.1+0.0im    \n",
        " 5590.68-5075.28im\n",
        " 2540.63-4050.42im\n",
        " 1523.96-3025.55im\n",
        " 1105.35-2359.48im\n",
        " 898.365-1914.2im \n",
        " 782.155-1599.43im\n",
        " 710.765-1365.78im\n",
        " 663.903-1185.33im\n",
        " 631.546-1041.45im\n",
        " 608.302-923.664im\n",
        " 591.065-825.113im\n",
        " 577.946-741.115im\n",
        "        \u22ee         \n",
        " 577.946+741.115im\n",
        " 591.065+825.113im\n",
        " 608.302+923.664im\n",
        " 631.546+1041.45im\n",
        " 663.903+1185.33im\n",
        " 710.765+1365.78im\n",
        " 782.155+1599.43im\n",
        " 898.365+1914.2im \n",
        " 1105.35+2359.48im\n",
        " 1523.96+3025.55im\n",
        " 2540.63+4050.42im\n",
        " 5590.68+5075.28im"
       ]
      }
     ],
     "prompt_number": 9
    },
    {
     "cell_type": "code",
     "collapsed": false,
     "input": [
      "U=Complex{Float64}[]\n",
      "t=1\n",
      "for k in 1:N\n",
      "    #@show(fgorrito[k])\n",
      "    #@show(exp(t*k^2))\n",
      "    push!(U,exp(-4*pi^2*t*k^2)*fgorrito[k])\n",
      "    #@show(U[k])\n",
      "end    \n",
      "U"
     ],
     "language": "python",
     "metadata": {},
     "outputs": [
      {
       "metadata": {},
       "output_type": "pyout",
       "prompt_number": 10,
       "text": [
        "64-element Array{Complex{Float64},1}:\n",
        "           7.63965e-14+0.0im\n",
        "    1.467e-65-1.33176e-65im \n",
        " 1.25202e-151-1.99604e-151im\n",
        " 7.22486e-272-1.43437e-271im\n",
        "                   0.0-0.0im\n",
        "                   0.0-0.0im\n",
        "                   0.0-0.0im\n",
        "                   0.0-0.0im\n",
        "                   0.0-0.0im\n",
        "                   0.0-0.0im\n",
        "                   0.0-0.0im\n",
        "                   0.0-0.0im\n",
        "                   0.0-0.0im\n",
        "                      \u22ee     \n",
        "                   0.0+0.0im\n",
        "                   0.0+0.0im\n",
        "                   0.0+0.0im\n",
        "                   0.0+0.0im\n",
        "                   0.0+0.0im\n",
        "                   0.0+0.0im\n",
        "                   0.0+0.0im\n",
        "                   0.0+0.0im\n",
        "                   0.0+0.0im\n",
        "                   0.0+0.0im\n",
        "                   0.0+0.0im\n",
        "                   0.0+0.0im"
       ]
      }
     ],
     "prompt_number": 10
    },
    {
     "cell_type": "code",
     "collapsed": false,
     "input": [
      "Usol=ifft(U)"
     ],
     "language": "python",
     "metadata": {},
     "outputs": [
      {
       "metadata": {},
       "output_type": "pyout",
       "prompt_number": 11,
       "text": [
        "64-element Array{Complex{Float64},1}:\n",
        " 1.1937e-15-2.08087e-67im\n",
        " 1.1937e-15-1.84618e-67im\n",
        "  1.1937e-15-1.5937e-67im\n",
        " 1.1937e-15-1.32588e-67im\n",
        " 1.1937e-15-1.04529e-67im\n",
        " 1.1937e-15-7.54635e-68im\n",
        " 1.1937e-15-4.56711e-68im\n",
        " 1.1937e-15-1.54388e-68im\n",
        " 1.1937e-15+1.49421e-68im\n",
        " 1.1937e-15+4.51792e-68im\n",
        " 1.1937e-15+7.49811e-68im\n",
        " 1.1937e-15+1.04061e-67im\n",
        " 1.1937e-15+1.32139e-67im\n",
        "                    \u22ee    \n",
        " 1.1937e-15-2.91401e-67im\n",
        " 1.1937e-15-3.00244e-67im\n",
        " 1.1937e-15-3.06195e-67im\n",
        " 1.1937e-15-3.09197e-67im\n",
        " 1.1937e-15-3.09221e-67im\n",
        " 1.1937e-15-3.06268e-67im\n",
        " 1.1937e-15-3.00365e-67im\n",
        " 1.1937e-15-2.91569e-67im\n",
        " 1.1937e-15-2.79965e-67im\n",
        " 1.1937e-15-2.65665e-67im\n",
        " 1.1937e-15-2.48807e-67im\n",
        " 1.1937e-15-2.29552e-67im"
       ]
      }
     ],
     "prompt_number": 11
    },
    {
     "cell_type": "code",
     "collapsed": false,
     "input": [
      "plot(imag(Usol))"
     ],
     "language": "python",
     "metadata": {},
     "outputs": [
      {
       "metadata": {},
       "output_type": "display_data",
       "png": "[encoded data removed]",
       "text": [
        "Figure(PyObject <matplotlib.figure.Figure object at 0x7fd750f02050>)"
       ]
      },
      {
       "metadata": {},
       "output_type": "pyout",
       "prompt_number": 12,
       "text": [
        "1-element Array{Any,1}:\n",
        " PyObject <matplotlib.lines.Line2D object at 0x7fd72cbeed10>"
       ]
      }
     ],
     "prompt_number": 12
    },
    {
     "cell_type": "markdown",
     "metadata": {},
     "source": [
      "Pero al parecer las $k's$ en la funci\u00f3n que ocup\u00e9 no son las que ocupamos como \u00edndices. Debemos encontrar la relaci\u00f3n entre las $k$ y las $x$."
     ]
    },
    {
     "cell_type": "code",
     "collapsed": false,
     "input": [],
     "language": "python",
     "metadata": {},
     "outputs": []
    }
   ],
   "metadata": {}
  }
 ]
}